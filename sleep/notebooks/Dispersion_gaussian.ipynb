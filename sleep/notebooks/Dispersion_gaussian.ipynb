{
 "cells": [
  {
   "cell_type": "code",
   "execution_count": 3,
   "metadata": {},
   "outputs": [],
   "source": [
    "import matplotlib.pyplot as plt\n",
    "import numpy as np\n",
    "from math import sqrt, exp, log, pi"
   ]
  },
  {
   "cell_type": "markdown",
   "metadata": {},
   "source": [
    "### Dispertion analysis\n",
    "\n",
    "In the simulation we set the initial STD of the gaussian profile. \n",
    "\n",
    "$$ \\exp \\left(- \\frac{(x -x_i)^2 }{2\\sigma ^2 } \\right) $$\n",
    "\n",
    "The analytical law for pure diffusion of an initial dirac function is\n",
    "\n",
    "$$ c(x,t)=\\frac{c_0}{\\sqrt{4\\pi D t}}\\exp{\\left(-\\frac{(x-x_i)^2}{4Dt}\\right)}$$\n",
    "\n",
    "Thus\n",
    "\n",
    "$$ \\sigma ^2 = 2 D t_i$$\n",
    "\n",
    "with $t_i$ the initial time corresponding to t=0 in the simulaiton.\n",
    "\n",
    "$$t_i =  \\frac{\\sigma ^2}{2 D }  $$\n",
    "\n",
    "We have then\n",
    "\n",
    "$$ 1=c_0/\\sqrt{(4 \\pi D t_i)} $$\n",
    "\n",
    "$$ c_0=\\sqrt{2 \\pi \\sigma ^2 } $$\n",
    "\n",
    "The solution over time is \n",
    "\n",
    "\n",
    "$$ c(x,t)=\\frac{\\sqrt{2 \\pi \\sigma ^2 } }{\\sqrt{4\\pi D t}}\\exp{\\left(-\\frac{(x-x_i)^2}{4Dt}\\right)}$$\n",
    "\n",
    "$$ c(x,t)=\\frac{\\sigma  }{\\sqrt{2 D t}}\\exp{\\left(-\\frac{(x-x_i)^2}{4Dt}\\right)}$$\n",
    "\n",
    "The unknowm is $D$, the apparent diffusion coefficient.\n",
    "\n"
   ]
  },
  {
   "cell_type": "markdown",
   "metadata": {},
   "source": [
    "## Method using the FWHM "
   ]
  },
  {
   "cell_type": "markdown",
   "metadata": {},
   "source": [
    "At any time we have the STD of the gaussian profile : \n",
    "\n",
    "$$ \\sigma_n ^2 = 2 D t_n$$\n",
    "\n",
    "Therefor the apparent diffusion coefficient can be estimated as the slope og the linear fit of the function $f(tn)=\\sigma_n^2/2$.\n",
    "\n",
    "Where $\\sigma_n$ is estimated from the Full Width at Half the Maximum, \n",
    "\n",
    "$$\\sigma_n = \\frac{FWHM}{\\sqrt{8\\ln 2}}   $$"
   ]
  },
  {
   "cell_type": "code",
   "execution_count": 39,
   "metadata": {},
   "outputs": [],
   "source": [
    "# compute FWHM using the roots of a fitted spline\n",
    "from scipy.interpolate import UnivariateSpline\n",
    "\n",
    "def FWHM(X,Y):\n",
    "    spline = UnivariateSpline(X, Y-np.max(Y)/2, s=0)\n",
    "    roots=spline.roots() # find the roots\n",
    "    if len(roots)==1 :\n",
    "        #print('Warning : there is only one root to the spline, we return 2*dist(max)')\n",
    "        fwhm=2*abs(X[np.argmax(Y)]-roots[0])\n",
    "    elif len(roots)==2 :\n",
    "        fwhm=abs(roots[1]-roots[0])\n",
    "    else :\n",
    "        #print('Error : unexpected number of roots of the fitted spline')\n",
    "        fwhm=np.nan\n",
    "    \n",
    "    return fwhm\n"
   ]
  },
  {
   "cell_type": "code",
   "execution_count": 40,
   "metadata": {},
   "outputs": [],
   "source": [
    "from sklearn import linear_model\n",
    "\n",
    "# With only one linear fit \n",
    "def estimate_diff_FWHM_fit(spanTime,spanFWHM) :\n",
    "    spanSigma=spanFWHM/(2*sqrt(2*log(2)))\n",
    "    \n",
    "    X = np.array(spanTime).reshape((-1, 1))\n",
    "    y = np.array(spanSigma**2)/2\n",
    "\n",
    "    regressor = linear_model.LinearRegression()\n",
    "    regressor.fit(X, y)\n",
    "    a = regressor.coef_[0]\n",
    "    b = regressor.intercept_\n",
    "    plt.figure()\n",
    "    plt.plot(spanTime,spanSigma**2/2,'*')\n",
    "    plt.plot(spanTime,a*(spanTime-(-b/a)))\n",
    "    plt.xlabel('time (s)')\n",
    "    plt.ylabel(u'$\\sigma^2/2$')\n",
    "    plt.title('linear fit for the FWHM method')\n",
    "\n",
    "    return regressor.coef_[0]\n",
    "\n",
    "# with the slope, can vary with time\n",
    "def estimate_diff_FWHM_slope(spanTime,spanFWHM) :\n",
    "    spanSigma=spanFWHM/(2*sqrt(2*log(2)))\n",
    "    y = np.array(spanSigma**2)/2\n",
    "\n",
    "    slope=np.diff(y)/np.diff(spanTime)\n",
    "    \n",
    "    plt.plot(spanTime[0:-1],slope,'*')\n",
    "    plt.xlabel('time (s)')\n",
    "    plt.ylabel('$Deff$')\n",
    "    plt.title('Slope of \\sigma^2/2 vs t')\n",
    "    \n",
    "    return slope"
   ]
  },
  {
   "cell_type": "markdown",
   "metadata": {},
   "source": [
    "## Method using gaussian fit"
   ]
  },
  {
   "cell_type": "markdown",
   "metadata": {},
   "source": [
    "We look for the best fit of the form \n",
    "\n",
    "\n",
    "$$ c(x,t)=\\frac{\\sigma  }{\\sqrt{2 D t}}\\exp{\\left(-\\frac{(x-x_i)^2}{4Dt}\\right)}$$\n",
    "\n",
    "with $D$ being the only unknown"
   ]
  },
  {
   "cell_type": "code",
   "execution_count": 41,
   "metadata": {},
   "outputs": [],
   "source": [
    "def gaussian (x,t,s,D,L,xi) :\n",
    "    return s/sqrt(2*D*t)*np.exp(-(x-xi)**2/(4*D*t))"
   ]
  },
  {
   "cell_type": "code",
   "execution_count": 42,
   "metadata": {},
   "outputs": [
    {
     "data": {
      "text/plain": [
       "Text(0, 0.5, 'c')"
      ]
     },
     "execution_count": 42,
     "metadata": {},
     "output_type": "execute_result"
    },
    {
     "data": {
      "image/png": "[encoded data removed]",
      "text/plain": [
       "<Figure size 432x288 with 1 Axes>"
      ]
     },
     "metadata": {
      "needs_background": "light"
     },
     "output_type": "display_data"
    }
   ],
   "source": [
    "x=np.linspace(0,100e-4,100)\n",
    "plt.plot(x,gaussian (np.array(x),10,1e-4,2e-8,100e-4,50e-4))\n",
    "plt.title('Concentration profile with diffusion only at t=10s')\n",
    "plt.xlabel('x (cm)')\n",
    "plt.ylabel('c')"
   ]
  },
  {
   "cell_type": "code",
   "execution_count": 43,
   "metadata": {},
   "outputs": [],
   "source": [
    "from scipy.optimize import curve_fit\n",
    "from sklearn.metrics import mean_squared_error, r2_score\n",
    "\n",
    "def estimate_diff_fit(spanC,spanX,t,sigma,L,xi) :\n",
    "    \n",
    "    \n",
    "    def fitfunction(x,D) :\n",
    "        tini=sigma**2/(2*D)\n",
    "        return  gaussian (spanX,t+tini,sigma,D,L,xi)\n",
    "    \n",
    "    popt, pcov = curve_fit(fitfunction, spanX,spanC,bounds=[1e-9,1e-4])\n",
    "    \n",
    "    fit = fitfunction(spanX,*popt)\n",
    "    \n",
    "    err=mean_squared_error(spanC, fit) \n",
    "        \n",
    "    return popt[0], err"
   ]
  },
  {
   "cell_type": "code",
   "execution_count": 44,
   "metadata": {},
   "outputs": [
    {
     "name": "stdout",
     "output_type": "stream",
     "text": [
      "Estimation of D from fit : 5.49e-08\n",
      "Actual value of D : 5.49e-08\n",
      "Error (pc): 2.02e-05\n"
     ]
    }
   ],
   "source": [
    "L=100e-4\n",
    "Dtest=5.489e-8\n",
    "xtest=np.linspace(0,L,100)\n",
    "ttest=10\n",
    "sigma=1e-4\n",
    "# create a profile (that would normally come from the simulation)\n",
    "profile_test=gaussian(xtest,ttest+sigma**2/(2*Dtest),sigma,Dtest,L,L)\n",
    "#estimate the D coeff with fit\n",
    "Dest, err = estimate_diff_fit(profile_test,xtest,ttest,sigma,L,L)\n",
    "\n",
    "print('Estimation of D from fit : %.2e'%Dest)\n",
    "print('Actual value of D : %.2e'%Dtest)\n",
    "print('Error (pc): %.2e'%((Dest-Dtest)/Dtest*100))"
   ]
  },
  {
   "cell_type": "markdown",
   "metadata": {},
   "source": [
    "# Analysis of diffusion only"
   ]
  },
  {
   "cell_type": "code",
   "execution_count": 188,
   "metadata": {},
   "outputs": [],
   "source": [
    "job='diffusion-D0 '\n",
    "rep='/home/alexandra/Documents/Python/sleep/sleep/output/'+job+'/'\n",
    "file='profiles/concentration.txt'\n",
    "\n",
    "Data=np.loadtxt(rep+file,delimiter=',')\n",
    "\n",
    "x=Data[0,1:]\n",
    "t=Data[1:,0]\n",
    "\n",
    "concentration=Data[1:,1:]\n",
    "\n",
    "pressure=np.loadtxt(rep+'profiles/pressure.txt',delimiter=',')[1:,1:]\n",
    "\n",
    "velocity=np.loadtxt(rep+'profiles/velocity.txt',delimiter=',')[1:,1:]"
   ]
  },
  {
   "cell_type": "markdown",
   "metadata": {},
   "source": [
    "#### Simulation parameters"
   ]
  },
  {
   "cell_type": "code",
   "execution_count": 189,
   "metadata": {},
   "outputs": [
    {
     "name": "stdout",
     "output_type": "stream",
     "text": [
      "Rv : 8.00 um\n",
      "Rpvs : 10.00 um\n",
      "Length : 100.00 um\n",
      "\n",
      "Density : 1.00e+00 g/cm3\n",
      "Viscosity : 7.00e-03 dyn s /cm2\n",
      "\n",
      "Diffusion coefficient: 2.00e-08 cm2/s\n",
      "STD gausian : 1.00e-04 cm\n",
      "center gaussian: 5.00e+01 um\n",
      "\n",
      "frequency : 0.00e+00 Hz\n",
      "\n",
      "amplitude : 0.00e+00 pc\n",
      "spatial resolution : 3.20e-01 um\n",
      "temporal resolution : 1.00e-03 s\n"
     ]
    }
   ],
   "source": [
    "import re\n",
    "scinot = re.compile('[+\\-]?(?:0|[1-9]\\d*)(?:\\.\\d*)?(?:[eE][+\\-]?\\d+)')\n",
    "\n",
    "# Should get D, L, rho, nu, f, amp, Rpvs, Rv0,sigma and x0 from the log file\n",
    "file='PVS_info.log'\n",
    "\n",
    "\n",
    "with open(rep+file) as fl:\n",
    "    line = fl.readline()\n",
    "    while line:\n",
    "        line = fl.readline()\n",
    "        if line[0:6] == 'Vessel' :\n",
    "            Rv0=float(re.findall(scinot, line)[0])\n",
    "        elif line[0:6] == 'PVS ra' :\n",
    "            Rpvs=float(re.findall(scinot, line)[0])  \n",
    "        elif line[0:6] == 'PVS le' :\n",
    "            L=float(re.findall(scinot, line)[0])   \n",
    "        elif line[0:6] == 'densit' :\n",
    "            rho=float(re.findall(scinot, line)[0])\n",
    "        elif line[0:6] == 'dynami' :\n",
    "            mu=float(re.findall(scinot, line)[0])   \n",
    "        elif line[0:6] == 'Free d' :\n",
    "            D=float(re.findall(scinot, line)[0]) \n",
    "        elif line[0:6] == 'STD of' :\n",
    "            sigma=float(re.findall(scinot, line)[0])  \n",
    "        elif line[0:6] == 'Initia' :\n",
    "            xi=float(re.findall(scinot, line)[0])\n",
    "        elif line[0:6] == 'fi (Hz':\n",
    "            f=float(re.findall(scinot, line)[0]) # Check if it works for several frequencies\n",
    "        elif line[0:6] == 'ai (di':\n",
    "            amp=float(re.findall(scinot, line)[0])*100 # Check if it works for several frequencies\n",
    "        elif line[0:6] == 'time s':\n",
    "            time_step=float(re.findall(scinot, line)[0])\n",
    "        elif line[0:6] == 'cell s':\n",
    "            cell_size=float(re.findall(scinot, line)[0])            \n",
    "            \n",
    "print('Rv : %.2f um'%(Rv0*1e4))\n",
    "print('Rpvs : %.2f um'%(Rpvs*1e4))\n",
    "print('Length : %.2f um'%(L*1e4))\n",
    "\n",
    "print('\\nDensity : %.2e g/cm3'%rho)\n",
    "print('Viscosity : %.2e dyn s /cm2'%mu)\n",
    "nu=mu/rho\n",
    "\n",
    "print('\\nDiffusion coefficient: %.2e cm2/s'%(D))      \n",
    "print('STD gausian : %.2e cm'%(sigma))\n",
    "print('center gaussian: %.2e um'%(xi*1e4))\n",
    "\n",
    "print('\\nfrequency : %.2e Hz'%f)\n",
    "print('\\namplitude : %.2e pc'%amp)\n",
    "\n",
    "print('spatial resolution : %.2e um'%(cell_size*1e4))\n",
    "print('temporal resolution : %.2e s'%time_step)"
   ]
  },
  {
   "cell_type": "code",
   "execution_count": null,
   "metadata": {},
   "outputs": [],
   "source": []
  },
  {
   "cell_type": "code",
   "execution_count": 190,
   "metadata": {},
   "outputs": [],
   "source": [
    "iperiodic=list(np.arange(0,len(t),10))"
   ]
  },
  {
   "cell_type": "code",
   "execution_count": null,
   "metadata": {},
   "outputs": [],
   "source": []
  },
  {
   "cell_type": "code",
   "execution_count": 191,
   "metadata": {},
   "outputs": [
    {
     "data": {
      "image/png": "[encoded data removed]",
      "text/plain": [
       "<Figure size 432x288 with 1 Axes>"
      ]
     },
     "metadata": {
      "needs_background": "light"
     },
     "output_type": "display_data"
    }
   ],
   "source": [
    "span_FWHM=[]\n",
    "for c in concentration :\n",
    "    span_FWHM.append(FWHM(x,c))\n",
    "    plt.plot(x,c)\n",
    "    \n",
    "span_FWHM=np.array(span_FWHM) \n",
    "#plt.xlim([35e-4,65e-4])"
   ]
  },
  {
   "cell_type": "code",
   "execution_count": 192,
   "metadata": {},
   "outputs": [
    {
     "data": {
      "text/plain": [
       "[<matplotlib.lines.Line2D at 0x7f7211152240>]"
      ]
     },
     "execution_count": 192,
     "metadata": {},
     "output_type": "execute_result"
    },
    {
     "data": {
      "image/png": "[encoded data removed]",
      "text/plain": [
       "<Figure size 432x288 with 1 Axes>"
      ]
     },
     "metadata": {
      "needs_background": "light"
     },
     "output_type": "display_data"
    }
   ],
   "source": [
    "plt.plot(t[iperiodic],span_FWHM[iperiodic],'*')"
   ]
  },
  {
   "cell_type": "markdown",
   "metadata": {},
   "source": [
    "### Estimation of D from FWHM"
   ]
  },
  {
   "cell_type": "code",
   "execution_count": 193,
   "metadata": {},
   "outputs": [
    {
     "data": {
      "image/png": "[encoded data removed]",
      "text/plain": [
       "<Figure size 432x288 with 1 Axes>"
      ]
     },
     "metadata": {
      "needs_background": "light"
     },
     "output_type": "display_data"
    }
   ],
   "source": [
    "Dest0=estimate_diff_FWHM_fit(t[iperiodic],span_FWHM[iperiodic])\n",
    "plt.xlabel('time (s)')\n",
    "plt.ylabel(u'$\\sigma^2/2$')\n",
    "plt.title('linear fit for the FWHM method')\n",
    "\n",
    "plt.savefig('/home/alexandra/Documents/Articles/Sleep/Images/FWHM_diff.svg')\n",
    "plt.savefig('/home/alexandra/Documents/Articles/Sleep/Images/FWHM_diff.png')"
   ]
  },
  {
   "cell_type": "code",
   "execution_count": 194,
   "metadata": {},
   "outputs": [
    {
     "name": "stdout",
     "output_type": "stream",
     "text": [
      "Estimation of D from FWHM : 2.00e-08\n",
      "Error (pc): 3.11e-02\n"
     ]
    }
   ],
   "source": [
    "print('Estimation of D from FWHM : %.2e'%Dest0)\n",
    "print('Error (pc): %.2e'%(abs(Dest0-D)/D*100))"
   ]
  },
  {
   "cell_type": "markdown",
   "metadata": {},
   "source": [
    "We recover the diffusion coefficient from the simulation."
   ]
  },
  {
   "cell_type": "markdown",
   "metadata": {},
   "source": [
    "### Estimation of D from fit"
   ]
  },
  {
   "cell_type": "code",
   "execution_count": 195,
   "metadata": {},
   "outputs": [
    {
     "data": {
      "text/plain": [
       "Text(0.5, 1.0, 'Estimate of D with fit method')"
      ]
     },
     "execution_count": 195,
     "metadata": {},
     "output_type": "execute_result"
    },
    {
     "data": {
      "image/png": "[encoded data removed]",
      "text/plain": [
       "<Figure size 432x288 with 1 Axes>"
      ]
     },
     "metadata": {
      "needs_background": "light"
     },
     "output_type": "display_data"
    }
   ],
   "source": [
    "# we take the time at last period\n",
    "spanDest=[]\n",
    "for itime in iperiodic[1:] : \n",
    "    #print('\\nEstimate at time %f s'%t[itime])\n",
    "\n",
    "    Dest, err = estimate_diff_fit(concentration[itime],x,t[itime],1e-4,100e-4,xi=50e-4)\n",
    "\n",
    "    #print('Estimation of D from fit : %.2e'%Dest)\n",
    "    #print('Fit error : %.2e'%err)\n",
    "    \n",
    "    spanDest.append(Dest)\n",
    "    plt.plot(t[itime],Dest,'*')\n",
    "    \n",
    "plt.xlabel('time (s)')\n",
    "plt.ylabel('D (cm2/s)')\n",
    "plt.title('Estimate of D with fit method')"
   ]
  },
  {
   "cell_type": "code",
   "execution_count": 196,
   "metadata": {},
   "outputs": [
    {
     "name": "stdout",
     "output_type": "stream",
     "text": [
      "Estimation of D from FWHM : 2.00e-08\n",
      "Error (pc): 6.63e-02\n"
     ]
    }
   ],
   "source": [
    "print('Estimation of D from FWHM : %.2e'%spanDest[-1])\n",
    "print('Error (pc): %.2e'%(abs(spanDest[-1]-D)/D*100))"
   ]
  },
  {
   "cell_type": "markdown",
   "metadata": {},
   "source": [
    "Both methods give good results. The fit method needs longer time as it is converging."
   ]
  },
  {
   "cell_type": "code",
   "execution_count": 197,
   "metadata": {},
   "outputs": [
    {
     "data": {
      "image/png": "[encoded data removed]",
      "text/plain": [
       "<Figure size 432x288 with 1 Axes>"
      ]
     },
     "metadata": {
      "needs_background": "light"
     },
     "output_type": "display_data"
    }
   ],
   "source": [
    "color='rgbkcmyrgbkcmyrgbkcmyrgbkcmyrgbkcmyrgbkcmy'\n",
    "icol=0\n",
    "for i in range(0,len(spanDest)) :\n",
    "    plt.plot(x*1e4,concentration[iperiodic[i]],'.',color=color[icol])\n",
    "    plt.plot(x*1e4,gaussian(np.array(x),t[iperiodic[i]]+sigma**2/(2*spanDest[i]),sigma,spanDest[i],L,xi),color=color[icol],alpha=0.5)\n",
    "    icol+=1\n",
    "plt.xlabel('x (cm)')\n",
    "plt.ylabel('concentration')\n",
    "plt.title('Fit of simulation results')\n",
    "plt.xlim([40,60])\n",
    "\n",
    "plt.savefig('/home/alexandra/Documents/Articles/Sleep/Images/fit_diff.svg')\n",
    "plt.savefig('/home/alexandra/Documents/Articles/Sleep/Images/fit_diff.png')"
   ]
  },
  {
   "cell_type": "code",
   "execution_count": 222,
   "metadata": {},
   "outputs": [
    {
     "name": "stdout",
     "output_type": "stream",
     "text": [
      "diffusion time constrain 0.9999999999999998\n",
      "oscillation time constrain 1.0\n"
     ]
    },
    {
     "data": {
      "text/plain": [
       "94.86832980505137"
      ]
     },
     "execution_count": 222,
     "metadata": {},
     "output_type": "execute_result"
    }
   ],
   "source": [
    "h_=2e-4\n",
    "D_=2e-8\n",
    "L_=200e-4\n",
    "f_=0.003\n",
    "\n",
    "\n",
    "print('diffusion time constrain',10*h_**2/L_**2*1000)\n",
    "print('oscillation time constrain',3*D_/f_/L_**2*20)\n",
    "\n",
    "\n",
    "np.sqrt(3*300*1e-7)*1e4"
   ]
  },
  {
   "cell_type": "markdown",
   "metadata": {},
   "source": [
    "# Analysis of pulsating simulation"
   ]
  },
  {
   "cell_type": "code",
   "execution_count": 278,
   "metadata": {},
   "outputs": [
    {
     "ename": "SyntaxError",
     "evalue": "invalid syntax (<ipython-input-278-6cc18c616133>, line 1)",
     "output_type": "error",
     "traceback": [
      "\u001b[0;36m  File \u001b[0;32m\"<ipython-input-278-6cc18c616133>\"\u001b[0;36m, line \u001b[0;32m1\u001b[0m\n\u001b[0;31m    A1pc-3mHz-D0\u001b[0m\n\u001b[0m            ^\u001b[0m\n\u001b[0;31mSyntaxError\u001b[0m\u001b[0;31m:\u001b[0m invalid syntax\n"
     ]
    }
   ],
   "source": [
    "A1pc-3mHz-D0\n",
    "A3pc-3mHz-D0\n",
    "A5pc-3mHz-D0\n",
    "A7pc-3mHz-D0\n",
    "A9pc-3mHz-D0\n",
    "A12pc-3mHz-D0\n",
    "A14pc-3mHz-D0\n",
    "A16pc-3mHz-D0\n",
    "A18pc-3mHz-D0\n",
    "A20pc-3mHz-D0"
   ]
  },
  {
   "cell_type": "code",
   "execution_count": 498,
   "metadata": {},
   "outputs": [],
   "source": [
    "Database=[]\n",
    "datalabel=['job', 'Rv0', 'Rpvs', 'L', 'DX', 'dt', 'rho', 'mu', 'D', 'sigma', 'xi', 'f', 'umax','pmax', 'Pe', 'Re', 'Wo', 'Fo' , 'A', 'beta', 'dPdx', 'T','nPeriod' , 'tend', 'FWHMend','DestFWHM', 'Destfit', 'RFWHM', 'Rfit', 'amp','thetaa', 'dx', 'dt']"
   ]
  },
  {
   "cell_type": "markdown",
   "metadata": {},
   "source": [
    "### Load data\n",
    "\n",
    "#### Simulation results"
   ]
  },
  {
   "cell_type": "code",
   "execution_count": 513,
   "metadata": {},
   "outputs": [],
   "source": [
    "job='A1pc-60mHz-D0'\n",
    "rep='/home/alexandra/Documents/Python/sleep/sleep/output/'+job+'/'\n",
    "file='profiles/concentration.txt'\n",
    "\n",
    "Data=np.loadtxt(rep+file,delimiter=',')\n",
    "\n",
    "x=Data[0,1:]\n",
    "t=Data[1:,0]\n",
    "\n",
    "concentration=Data[1:,1:]\n",
    "\n",
    "pressure=np.loadtxt(rep+'profiles/pressure.txt',delimiter=',')[1:,1:]\n",
    "\n",
    "velocity=np.loadtxt(rep+'profiles/velocity.txt',delimiter=',')[1:,1:]"
   ]
  },
  {
   "cell_type": "markdown",
   "metadata": {},
   "source": [
    "#### Simulation parameters"
   ]
  },
  {
   "cell_type": "code",
   "execution_count": 500,
   "metadata": {},
   "outputs": [
    {
     "name": "stdout",
     "output_type": "stream",
     "text": [
      "Rv : 8.00 um\n",
      "Rpvs : 10.00 um\n",
      "Length : 200.00 um\n",
      "\n",
      "Density : 1.00e+00 g/cm3\n",
      "Viscosity : 7.00e-03 dyn s /cm2\n",
      "\n",
      "Diffusion coefficient: 2.00e-08 cm2/s\n",
      "STD gausian : 1.00e-04 cm\n",
      "center gaussian: 1.00e+02 um\n",
      "\n",
      "frequency : 6.00e-02 Hz\n",
      "\n",
      "amplitude : 1.00e+00 pc\n"
     ]
    }
   ],
   "source": [
    "import re\n",
    "scinot = re.compile('[+\\-]?(?:0|[1-9]\\d*)(?:\\.\\d*)?(?:[eE][+\\-]?\\d+)')\n",
    "\n",
    "# Should get D, L, rho, nu, f, amp, Rpvs, Rv0,sigma and x0 from the log file\n",
    "file='PVS_info.log'\n",
    "\n",
    "\n",
    "with open(rep+file) as fl:\n",
    "    line = fl.readline()\n",
    "    while line:\n",
    "        line = fl.readline()\n",
    "        if line[0:6] == 'Vessel' :\n",
    "            Rv0=float(re.findall(scinot, line)[0])\n",
    "        elif line[0:6] == 'PVS ra' :\n",
    "            Rpvs=float(re.findall(scinot, line)[0])  \n",
    "        elif line[0:6] == 'PVS le' :\n",
    "            L=float(re.findall(scinot, line)[0])   \n",
    "        elif line[0:6] == 'densit' :\n",
    "            rho=float(re.findall(scinot, line)[0])\n",
    "        elif line[0:6] == 'dynami' :\n",
    "            mu=float(re.findall(scinot, line)[0])   \n",
    "        elif line[0:6] == 'Free d' :\n",
    "            D=float(re.findall(scinot, line)[0]) \n",
    "        elif line[0:6] == 'STD of' :\n",
    "            sigma=float(re.findall(scinot, line)[0])  \n",
    "        elif line[0:6] == 'Initia' :\n",
    "            xi=float(re.findall(scinot, line)[0])\n",
    "        elif line[0:6] == 'fi (Hz':\n",
    "            f=float(re.findall(scinot, line)[0]) # Check if it works for several frequencies\n",
    "        elif line[0:6] == 'ai (di':\n",
    "            amp=float(re.findall(scinot, line)[0])*100 # Check if it works for several frequencies\n",
    "        elif line[0:6] == 'time s':\n",
    "            time_step=float(re.findall(scinot, line)[0])\n",
    "        elif line[0:6] == 'cell s':\n",
    "            cell_size=float(re.findall(scinot, line)[0])    \n",
    "            \n",
    "print('Rv : %.2f um'%(Rv0*1e4))\n",
    "print('Rpvs : %.2f um'%(Rpvs*1e4))\n",
    "print('Length : %.2f um'%(L*1e4))\n",
    "\n",
    "print('\\nDensity : %.2e g/cm3'%rho)\n",
    "print('Viscosity : %.2e dyn s /cm2'%mu)\n",
    "nu=mu/rho\n",
    "\n",
    "print('\\nDiffusion coefficient: %.2e cm2/s'%(D))      \n",
    "print('STD gausian : %.2e cm'%(sigma))\n",
    "print('center gaussian: %.2e um'%(xi*1e4))\n",
    "\n",
    "print('\\nfrequency : %.2e Hz'%f)\n",
    "print('\\namplitude : %.2e pc'%amp)\n",
    "\n",
    "print('spatial resolution : %.2e um'%(cell_size*1e4))\n",
    "print('temporal resolution : %.2e s'%time_step)"
   ]
  },
  {
   "cell_type": "markdown",
   "metadata": {},
   "source": [
    "### Compute dimensionless numbers"
   ]
  },
  {
   "cell_type": "code",
   "execution_count": 501,
   "metadata": {},
   "outputs": [
    {
     "name": "stdout",
     "output_type": "stream",
     "text": [
      "Umax : 0.744 um/s\n",
      "Pmax : 0.158 pa \n",
      "\n",
      "max Reynolds number : 2e-06\n",
      "max Peclet number : 7e-01\n",
      "Womersley number : 1e-03\n",
      "Fourier number : 1e-02\n"
     ]
    }
   ],
   "source": [
    "umax=np.max(abs(velocity))\n",
    "pmax=np.max(abs(pressure))\n",
    "\n",
    "\n",
    "w=2*pi*f\n",
    "h=Rpvs-Rv0\n",
    "\n",
    "Pe=h*umax/D\n",
    "Re=rho*umax*h/mu\n",
    "Wo=h*sqrt(w/mu)\n",
    "Fo=D*t[-1]/xi**2\n",
    "\n",
    "print('Umax : %.3f um/s'%(umax*1e4))\n",
    "print('Pmax : %.3f pa \\n'%(pmax/10))\n",
    "\n",
    "print('max Reynolds number : %.0e'%Re)\n",
    "print('max Peclet number : %.0e'%Pe)\n",
    "print('Womersley number : %.0e'%Wo)\n",
    "print('Fourier number : %.0e'%Fo)\n",
    "\n",
    "dPdx=pmax/L\n",
    "beta=D/mu\n",
    "A=pi*(Rpvs**2-Rv0**2)\n",
    "\n"
   ]
  },
  {
   "cell_type": "code",
   "execution_count": 502,
   "metadata": {},
   "outputs": [
    {
     "name": "stdout",
     "output_type": "stream",
     "text": [
      "final time simulation : 4.98e+01 s\n",
      "final time analysis : 4.98e+01 s\n",
      "output period : 4.15e+00 s\n",
      "period : 1.67e+01 s\n",
      "number of period analysed: 3\n"
     ]
    }
   ],
   "source": [
    "# We want to look to the results when v=0\n",
    "# We add time shift of 1/4f\n",
    "dtoutput=t[1]-t[0]\n",
    "tend=t[-1]\n",
    "\n",
    "if f:\n",
    "    T=1/f\n",
    "    ishift=0 #int(T/dt*1/2)\n",
    "else :\n",
    "    T=t[-1]/10\n",
    "    ishift=0\n",
    "\n",
    "iperiodic=(np.arange(ishift,len(t),int(T/dtoutput)))\n",
    "\n",
    "#condition diffusion\n",
    "tmax=(L/4)**2/D/2\n",
    "if tend>tmax : \n",
    "    print('tend = %e is superior as tmax=%e '%(tend,tmax))\n",
    "    it=np.where(t>=tmax)[0][0]\n",
    "    ii=np.where(iperiodic>=it)[0][0]\n",
    "    iperiodic=iperiodic[0:ii]\n",
    "    \n",
    "#condition diffusion + advection\n",
    "#a*L/(1+a)/(L/2-4*sqrt(2*D*tend))\n",
    "\n",
    "print('final time simulation : %.2e s'%tend)\n",
    "print('final time analysis : %.2e s'%t[iperiodic[-1]])\n",
    "print('output period : %.2e s'%dtoutput)\n",
    "print('period : %.2e s'%T)\n",
    "nPeriod=len(iperiodic)-1\n",
    "print('number of period analysed: %i'%nPeriod)"
   ]
  },
  {
   "cell_type": "code",
   "execution_count": 505,
   "metadata": {},
   "outputs": [],
   "source": [
    "span_FWHM=[]\n",
    "for c in concentration :\n",
    "    span_FWHM.append(FWHM(x,c))\n",
    "    #plt.plot(x,c)\n",
    "    \n",
    "span_FWHM=np.array(span_FWHM) \n",
    "#plt.xlim([35e-4,65e-4])\n",
    "\n",
    " "
   ]
  },
  {
   "cell_type": "code",
   "execution_count": 506,
   "metadata": {},
   "outputs": [
    {
     "name": "stdout",
     "output_type": "stream",
     "text": [
      "spatial resotion : 2.02e+00 um\n"
     ]
    }
   ],
   "source": [
    "DX=(x[1]-x[0])*1e4\n",
    "print('spatial resotion : %.2e um'%(DX))\n",
    "\n"
   ]
  },
  {
   "cell_type": "code",
   "execution_count": 508,
   "metadata": {},
   "outputs": [
    {
     "data": {
      "text/plain": [
       "Text(0.5, 1.0, 'computed FWHM')"
      ]
     },
     "execution_count": 508,
     "metadata": {},
     "output_type": "execute_result"
    },
    {
     "data": {
      "image/png": "[encoded data removed]",
      "text/plain": [
       "<Figure size 432x288 with 1 Axes>"
      ]
     },
     "metadata": {
      "needs_background": "light"
     },
     "output_type": "display_data"
    }
   ],
   "source": [
    "plt.plot(t[iperiodic],span_FWHM[iperiodic]*1e4,'*')\n",
    "plt.xlabel('time (s)')\n",
    "plt.ylabel('FWHM (um)')\n",
    "plt.title('computed FWHM')\n",
    "\n"
   ]
  },
  {
   "cell_type": "markdown",
   "metadata": {},
   "source": [
    "### Estimation of D from FWHM"
   ]
  },
  {
   "cell_type": "code",
   "execution_count": 509,
   "metadata": {},
   "outputs": [
    {
     "data": {
      "image/png": "[encoded data removed]",
      "text/plain": [
       "<Figure size 432x288 with 1 Axes>"
      ]
     },
     "metadata": {
      "needs_background": "light"
     },
     "output_type": "display_data"
    }
   ],
   "source": [
    "Dest=estimate_diff_FWHM_fit(t[iperiodic[::]],span_FWHM[iperiodic[::]])\n",
    "\n"
   ]
  },
  {
   "cell_type": "code",
   "execution_count": 510,
   "metadata": {},
   "outputs": [
    {
     "name": "stdout",
     "output_type": "stream",
     "text": [
      "Estimation of D from FWHM : 1.99e-08\n"
     ]
    }
   ],
   "source": [
    "DestFWHM=Dest\n",
    "print('Estimation of D from FWHM : %.2e'%DestFWHM)"
   ]
  },
  {
   "cell_type": "code",
   "execution_count": 512,
   "metadata": {},
   "outputs": [
    {
     "name": "stdout",
     "output_type": "stream",
     "text": [
      "theta a : 1.4e+00\n"
     ]
    }
   ],
   "source": [
    "thetaa=amp*L/(1+amp)/(L/2-2*sqrt(2*DestFWHM*t[iperiodic[-1]]))\n",
    "print('theta a : %.1e'%thetaa)"
   ]
  },
  {
   "cell_type": "markdown",
   "metadata": {},
   "source": [
    "When the apparent Diffusion coefficient is smaller with oscillation than diffusion alone at small time. What is going on? "
   ]
  },
  {
   "cell_type": "markdown",
   "metadata": {},
   "source": [
    "### Estimation of D from fit"
   ]
  },
  {
   "cell_type": "code",
   "execution_count": 494,
   "metadata": {},
   "outputs": [
    {
     "data": {
      "text/plain": [
       "Text(0.5, 1.0, 'Estimate of D with fit method')"
      ]
     },
     "execution_count": 494,
     "metadata": {},
     "output_type": "execute_result"
    },
    {
     "data": {
      "image/png": "[encoded data removed]",
      "text/plain": [
       "<Figure size 432x288 with 1 Axes>"
      ]
     },
     "metadata": {
      "needs_background": "light"
     },
     "output_type": "display_data"
    }
   ],
   "source": [
    "# we take the time at last period\n",
    "\n",
    "spanDest=[]\n",
    "for itime in iperiodic[1::] : \n",
    "    #print('\\nEstimate at time %f s'%t[itime])\n",
    "\n",
    "    Dest, err = estimate_diff_fit(concentration[itime],x,t[itime],sigma,L,xi)\n",
    "\n",
    "    #print('Estimation of D from fit : %.2e'%Dest)\n",
    "    #print('Fit error : %.2e'%err)\n",
    "    spanDest.append(Dest)\n",
    "    plt.plot(t[itime],Dest,'*')\n",
    "    \n",
    "plt.xlabel('time (s)')\n",
    "plt.ylabel('D (cm2/s)')\n",
    "plt.title('Estimate of D with fit method')"
   ]
  },
  {
   "cell_type": "code",
   "execution_count": 496,
   "metadata": {},
   "outputs": [
    {
     "name": "stdout",
     "output_type": "stream",
     "text": [
      "Estimation of D from fit : 2.38e-08\n"
     ]
    }
   ],
   "source": [
    "Destfit=spanDest[-1]\n",
    "print('Estimation of D from fit : %.2e'%Destfit)"
   ]
  },
  {
   "cell_type": "code",
   "execution_count": 497,
   "metadata": {},
   "outputs": [
    {
     "data": {
      "text/plain": [
       "Text(0.5, 1.0, 'Fit of simulation results')"
      ]
     },
     "execution_count": 497,
     "metadata": {},
     "output_type": "execute_result"
    },
    {
     "data": {
      "image/png": "[encoded data removed]",
      "text/plain": [
       "<Figure size 432x288 with 1 Axes>"
      ]
     },
     "metadata": {
      "needs_background": "light"
     },
     "output_type": "display_data"
    }
   ],
   "source": [
    "color='rgbkcmyrgbkcmyrgbkcmyrgbkcmyrgbkcmyrgbkcmy'\n",
    "icol=0\n",
    "for i in range(0,len(spanDest)) :\n",
    "    plt.plot(x,concentration[iperiodic[i+1]],'.',color=color[icol])\n",
    "    plt.plot(x,gaussian(np.array(x),t[iperiodic[i+1]]+sigma**2/(2*spanDest[i]),sigma,spanDest[i],L,xi),color=color[icol],alpha=0.5)\n",
    "    icol+=1\n",
    "plt.xlabel('x (cm)')\n",
    "plt.ylabel('concentration')\n",
    "plt.title('Fit of simulation results')\n",
    "#plt.xlim([L-50e-4,L])"
   ]
  },
  {
   "cell_type": "markdown",
   "metadata": {},
   "source": [
    "### Update database"
   ]
  },
  {
   "cell_type": "code",
   "execution_count": 481,
   "metadata": {},
   "outputs": [],
   "source": [
    "Database.append([job, Rv0, Rpvs, L, DX, dt, rho, mu, D, sigma, xi, f, umax,pmax, Pe, Re, Wo, Fo , A, beta, dPdx, T,nPeriod , t[-1], span_FWHM[iperiodic[-1]],DestFWHM, Destfit,DestFWHM/D, Destfit/D, amp, thetaa, dx, dt])"
   ]
  },
  {
   "cell_type": "markdown",
   "metadata": {},
   "source": [
    "### Save database"
   ]
  },
  {
   "cell_type": "code",
   "execution_count": 170,
   "metadata": {},
   "outputs": [],
   "source": [
    "file_name=\"data_dispersion_xi.csv\""
   ]
  },
  {
   "cell_type": "code",
   "execution_count": 171,
   "metadata": {},
   "outputs": [],
   "source": [
    "labelstring=''\n",
    "for d in datalabel:\n",
    "    labelstring+=d+', '\n",
    "    \n",
    "labelstring=labelstring[0:-1]"
   ]
  },
  {
   "cell_type": "code",
   "execution_count": 172,
   "metadata": {},
   "outputs": [],
   "source": [
    "f = open(file_name, \"w\")\n",
    "f.write(labelstring+'\\n')\n",
    "f.close()"
   ]
  },
  {
   "cell_type": "code",
   "execution_count": 173,
   "metadata": {},
   "outputs": [],
   "source": [
    "formatstring='%s'+' , %.6e'*29"
   ]
  },
  {
   "cell_type": "code",
   "execution_count": 174,
   "metadata": {},
   "outputs": [
    {
     "name": "stdout",
     "output_type": "stream",
     "text": [
      "A4pc-1Hz-D0-xi80-sigma1 , 8.000000e-04 , 1.000000e-03 , 2.000000e-02 , 2.020202e+00 , 2.500000e-01 , 1.000000e+00 , 7.000000e-03 , 2.000000e-08 , 1.000000e-04 , 8.000000e-03 , 1.000000e+00 , 8.815651e-03 , 1.872183e+02 , 8.815651e+01 , 2.518757e-04 , 5.991988e-03 , 1.250000e-03 , 1.130973e-06 , 2.857143e-06 , 9.360915e+03 , 1.000000e+00 , 4.000000e+00 , 4.000000e+00 , 2.884053e-03 , 2.148789e-07 , 2.114405e-07 , 1.074395e+01 , 1.057203e+01 , 4.000000e+00\n",
      "A4pc-1Hz-D0-xi90-sigma1 , 8.000000e-04 , 1.000000e-03 , 2.000000e-02 , 2.020202e+00 , 2.500000e-01 , 1.000000e+00 , 7.000000e-03 , 2.000000e-08 , 1.000000e-04 , 9.000000e-03 , 1.000000e+00 , 8.815651e-03 , 1.872183e+02 , 8.815651e+01 , 2.518757e-04 , 5.991988e-03 , 9.876543e-04 , 1.130973e-06 , 2.857143e-06 , 9.360915e+03 , 1.000000e+00 , 4.000000e+00 , 4.000000e+00 , 2.667975e-03 , 1.837709e-07 , 1.807764e-07 , 9.188546e+00 , 9.038820e+00 , 4.000000e+00\n",
      "A4pc-1Hz-D0-xi100-sigma1 , 8.000000e-04 , 1.000000e-03 , 2.000000e-02 , 2.020202e+00 , 2.500000e-01 , 1.000000e+00 , 7.000000e-03 , 2.000000e-08 , 1.000000e-04 , 1.000000e-02 , 1.000000e+00 , 8.815651e-03 , 1.872183e+02 , 8.815651e+01 , 2.518757e-04 , 5.991988e-03 , 8.000000e-04 , 1.130973e-06 , 2.857143e-06 , 9.360915e+03 , 1.000000e+00 , 4.000000e+00 , 4.000000e+00 , 2.454265e-03 , 1.553459e-07 , 1.527786e-07 , 7.767296e+00 , 7.638929e+00 , 4.000000e+00\n",
      "A4pc-1Hz-D0-xi110-sigma1 , 8.000000e-04 , 1.000000e-03 , 2.000000e-02 , 2.020202e+00 , 2.500000e-01 , 1.000000e+00 , 7.000000e-03 , 2.000000e-08 , 1.000000e-04 , 1.100000e-02 , 1.000000e+00 , 8.815651e-03 , 1.872183e+02 , 8.815651e+01 , 2.518757e-04 , 5.991988e-03 , 6.611570e-04 , 1.130973e-06 , 2.857143e-06 , 9.360915e+03 , 1.000000e+00 , 4.000000e+00 , 4.000000e+00 , 2.244109e-03 , 1.296126e-07 , 1.274863e-07 , 6.480631e+00 , 6.374317e+00 , 4.000000e+00\n",
      "A4pc-1Hz-D0-xi120-sigma1 , 8.000000e-04 , 1.000000e-03 , 2.000000e-02 , 2.020202e+00 , 2.500000e-01 , 1.000000e+00 , 7.000000e-03 , 2.000000e-08 , 1.000000e-04 , 1.200000e-02 , 1.000000e+00 , 8.815651e-03 , 1.872183e+02 , 8.815651e+01 , 2.518757e-04 , 5.991988e-03 , 5.555556e-04 , 1.130973e-06 , 2.857143e-06 , 9.360915e+03 , 1.000000e+00 , 4.000000e+00 , 4.000000e+00 , 2.037596e-03 , 1.066121e-07 , 1.048478e-07 , 5.330604e+00 , 5.242392e+00 , 4.000000e+00\n"
     ]
    }
   ],
   "source": [
    "f = open(file_name, \"a\")\n",
    "for d in Database :\n",
    "    print(formatstring%tuple(d))\n",
    "    f.write(formatstring%tuple(d)+'\\n')\n",
    "f.close()"
   ]
  },
  {
   "cell_type": "markdown",
   "metadata": {},
   "source": [
    "### Plot results"
   ]
  },
  {
   "cell_type": "code",
   "execution_count": 175,
   "metadata": {},
   "outputs": [
    {
     "name": "stdout",
     "output_type": "stream",
     "text": [
      "0 :job\n",
      "1 :Rv0\n",
      "2 :Rpvs\n",
      "3 :L\n",
      "4 :DX\n",
      "5 :dt\n",
      "6 :rho\n",
      "7 :mu\n",
      "8 :D\n",
      "9 :sigma\n",
      "10 :xi\n",
      "11 :f\n",
      "12 :umax\n",
      "13 :pmax\n",
      "14 :Pe\n",
      "15 :Re\n",
      "16 :Wo\n",
      "17 :Fo\n",
      "18 :A\n",
      "19 :beta\n",
      "20 :dPdx\n",
      "21 :T\n",
      "22 :nPeriod\n",
      "23 :tend\n",
      "24 :FWHMend\n",
      "25 :DestFWHM\n",
      "26 :Destfit\n",
      "27 :RFWHM\n",
      "28 :Rfit\n",
      "29 :amp\n"
     ]
    }
   ],
   "source": [
    "for i,label in enumerate(datalabel) :\n",
    "    print('%i :'%i+label)"
   ]
  },
  {
   "cell_type": "code",
   "execution_count": 181,
   "metadata": {},
   "outputs": [
    {
     "data": {
      "image/png": "[encoded data removed]",
      "text/plain": [
       "<Figure size 432x288 with 1 Axes>"
      ]
     },
     "metadata": {
      "needs_background": "light"
     },
     "output_type": "display_data"
    }
   ],
   "source": [
    "ix=10\n",
    "iy=25\n",
    "\n",
    "xplot=[d[ix]*1e4 for d in Database]\n",
    "yplot=[d[iy]/2e-8 for d in Database]\n",
    "\n",
    "plt.plot(xplot,yplot,'r*:',label='from gaussian fit')\n",
    "\n",
    "iy=26\n",
    "xplot=[d[ix]*1e4 for d in Database]\n",
    "yplot=[d[iy]/2e-8 for d in Database]\n",
    "plt.plot(xplot,yplot,'b*:',label='from FWHM fit')\n",
    "\n",
    "plt.title('Enhancement factor')\n",
    "plt.ylabel('R'+'')\n",
    "plt.xlabel(datalabel[ix]+' (um)')\n",
    "plt.legend()\n",
    "\n",
    "plt.savefig('/home/alexandra/Documents/Articles/Sleep/Images/dispersion_xi.svg')\n",
    "plt.savefig('/home/alexandra/Documents/Articles/Sleep/Images/dispersion_xi.png')"
   ]
  },
  {
   "cell_type": "code",
   "execution_count": 1321,
   "metadata": {},
   "outputs": [
    {
     "data": {
      "text/plain": [
       "Text(0.5, 0, 'amp (pc)')"
      ]
     },
     "execution_count": 1321,
     "metadata": {},
     "output_type": "execute_result"
    },
    {
     "data": {
      "image/png": "[encoded data removed]",
      "text/plain": [
       "<Figure size 432x288 with 1 Axes>"
      ]
     },
     "metadata": {
      "needs_background": "light"
     },
     "output_type": "display_data"
    }
   ],
   "source": [
    "ix=29\n",
    "iy=24\n",
    "\n",
    "xplot=[d[ix] for d in Database]\n",
    "yplot=[d[iy]*1e4 for d in Database]\n",
    "\n",
    "plt.plot(xplot,yplot,'k*:')\n",
    "\n",
    "\n",
    "plt.title('FWHM at 2 sec')\n",
    "plt.ylabel('FWHM'+'(um)')\n",
    "plt.xlabel(datalabel[ix]+' (pc)')\n"
   ]
  },
  {
   "cell_type": "code",
   "execution_count": 1322,
   "metadata": {},
   "outputs": [
    {
     "data": {
      "text/plain": [
       "Text(0.5, 0, 'amp (pc)')"
      ]
     },
     "execution_count": 1322,
     "metadata": {},
     "output_type": "execute_result"
    },
    {
     "data": {
      "image/png": "[encoded data removed]",
      "text/plain": [
       "<Figure size 432x288 with 1 Axes>"
      ]
     },
     "metadata": {
      "needs_background": "light"
     },
     "output_type": "display_data"
    }
   ],
   "source": [
    "ix=29\n",
    "iy=12\n",
    "\n",
    "xplot=[d[ix] for d in Database]\n",
    "yplot=[d[iy]*1e4 for d in Database]\n",
    "\n",
    "plt.plot(xplot,yplot,'k*:')\n",
    "\n",
    "\n",
    "plt.title('Max velocity')\n",
    "plt.ylabel(datalabel[iy]+'(um/s)')\n",
    "plt.xlabel(datalabel[ix]+' (pc)')"
   ]
  },
  {
   "cell_type": "code",
   "execution_count": 1323,
   "metadata": {},
   "outputs": [
    {
     "data": {
      "text/plain": [
       "Text(0.5, 0, 'amp (pc)')"
      ]
     },
     "execution_count": 1323,
     "metadata": {},
     "output_type": "execute_result"
    },
    {
     "data": {
      "image/png": "[encoded data removed]",
      "text/plain": [
       "<Figure size 432x288 with 1 Axes>"
      ]
     },
     "metadata": {
      "needs_background": "light"
     },
     "output_type": "display_data"
    }
   ],
   "source": [
    "ix=29\n",
    "iy=13\n",
    "\n",
    "xplot=[d[ix] for d in Database]\n",
    "yplot=[d[iy]/1333 for d in Database]\n",
    "\n",
    "plt.plot(xplot,yplot,'k*:')\n",
    "\n",
    "\n",
    "plt.title('Max pressure')\n",
    "plt.ylabel(datalabel[iy]+'(mmHg)')\n",
    "plt.xlabel(datalabel[ix]+' (pc)')"
   ]
  },
  {
   "cell_type": "code",
   "execution_count": 1324,
   "metadata": {},
   "outputs": [
    {
     "data": {
      "text/plain": [
       "Text(0.5, 0, 'amp (pc)')"
      ]
     },
     "execution_count": 1324,
     "metadata": {},
     "output_type": "execute_result"
    },
    {
     "data": {
      "image/png": "[encoded data removed]",
      "text/plain": [
       "<Figure size 432x288 with 1 Axes>"
      ]
     },
     "metadata": {
      "needs_background": "light"
     },
     "output_type": "display_data"
    }
   ],
   "source": [
    "ix=29\n",
    "iy=15\n",
    "\n",
    "xplot=[d[ix] for d in Database]\n",
    "yplot=[d[iy] for d in Database]\n",
    "\n",
    "plt.plot(xplot,yplot,'k*:')\n",
    "\n",
    "\n",
    "plt.title('Max Reynolds number')\n",
    "plt.ylabel(datalabel[iy])\n",
    "plt.xlabel(datalabel[ix]+' (pc)')"
   ]
  },
  {
   "cell_type": "code",
   "execution_count": 1325,
   "metadata": {},
   "outputs": [
    {
     "data": {
      "text/plain": [
       "Text(0.5, 0, 'amp pc')"
      ]
     },
     "execution_count": 1325,
     "metadata": {},
     "output_type": "execute_result"
    },
    {
     "data": {
      "image/png": "[encoded data removed]",
      "text/plain": [
       "<Figure size 432x288 with 1 Axes>"
      ]
     },
     "metadata": {
      "needs_background": "light"
     },
     "output_type": "display_data"
    }
   ],
   "source": [
    "ix=29\n",
    "iy=14\n",
    "\n",
    "xplot=[d[ix] for d in Database]\n",
    "yplot=[d[iy] for d in Database]\n",
    "\n",
    "plt.plot(xplot,yplot,'k*:')\n",
    "\n",
    "\n",
    "plt.title('Max Peclet number')\n",
    "plt.ylabel(datalabel[iy])\n",
    "plt.xlabel(datalabel[ix]+' pc')"
   ]
  },
  {
   "cell_type": "markdown",
   "metadata": {},
   "source": [
    "# Analysis of NREM waves"
   ]
  },
  {
   "cell_type": "code",
   "execution_count": 250,
   "metadata": {},
   "outputs": [],
   "source": [
    "Rv0=8e-4\n",
    "Rpvs=10e-4\n",
    "f=1 #Hz\n",
    "amp=0.1"
   ]
  },
  {
   "cell_type": "code",
   "execution_count": 257,
   "metadata": {},
   "outputs": [],
   "source": [
    "rep='/home/alexandra/Documents/Python/sleep/sleep/fbb_DD/output/10pc-1Hz-cyl-D0 /profiles/'\n",
    "file='concentration.txt'\n",
    "\n",
    "Data=np.loadtxt(rep+file,delimiter=',')\n",
    "\n",
    "x=Data[0,1:]\n",
    "t=Data[1:,0]\n",
    "\n",
    "concentration=Data[1:,1:]\n",
    "\n",
    "pressure=np.loadtxt(rep+'pressure.txt',delimiter=',')[1:,1:]\n",
    "\n",
    "velocity=np.loadtxt(rep+'velocity.txt',delimiter=',')[1:,1:]"
   ]
  },
  {
   "cell_type": "code",
   "execution_count": 258,
   "metadata": {},
   "outputs": [
    {
     "name": "stdout",
     "output_type": "stream",
     "text": [
      "Umax : 167 um/s\n",
      "Pmax : 6 pa \n",
      "\n",
      "Reynolds number : 5e-04\n",
      "Peclet number : 2e+02\n",
      "Womersley number : 6e-03\n"
     ]
    }
   ],
   "source": [
    "umax=np.max(abs(velocity))\n",
    "pmax=np.max(abs(pressure))\n",
    "w=2*pi*f\n",
    "h=Rpvs-Rv0\n",
    "\n",
    "Pe=h*umax/D\n",
    "Re=rho*umax*h/mu\n",
    "Wo=h*sqrt(w/nu)\n",
    "\n",
    "print('Umax : %.0f um/s'%(umax*1e4))\n",
    "print('Pmax : %.0f pa \\n'%(pmax/10))\n",
    "\n",
    "print('Reynolds number : %.0e'%Re)\n",
    "print('Peclet number : %.0e'%Pe)\n",
    "print('Womersley number : %.0e'%Wo)\n",
    "\n",
    "dPdx=pmax/(L/2)\n",
    "beta=D/mu\n",
    "A=pi*(Rpvs**2-Rv0**2)"
   ]
  },
  {
   "cell_type": "code",
   "execution_count": 259,
   "metadata": {},
   "outputs": [],
   "source": [
    "dt=t[2]-t[1]\n",
    "T=1/f\n",
    "iperiodic=list(np.arange(0,len(t),int(T/dt)))"
   ]
  },
  {
   "cell_type": "code",
   "execution_count": 260,
   "metadata": {},
   "outputs": [],
   "source": [
    "span_FWHM=[]\n",
    "for c in concentration :\n",
    "    span_FWHM.append(FWHM(x,c))\n",
    "span_FWHM=np.array(span_FWHM) "
   ]
  },
  {
   "cell_type": "code",
   "execution_count": 261,
   "metadata": {},
   "outputs": [
    {
     "data": {
      "text/plain": [
       "Text(0.5, 1.0, 'computed FWHM')"
      ]
     },
     "execution_count": 261,
     "metadata": {},
     "output_type": "execute_result"
    },
    {
     "data": {
      "image/png": "[encoded data removed]",
      "text/plain": [
       "<Figure size 432x288 with 1 Axes>"
      ]
     },
     "metadata": {
      "needs_background": "light"
     },
     "output_type": "display_data"
    }
   ],
   "source": [
    "plt.plot(t[iperiodic],span_FWHM[iperiodic],'*')\n",
    "plt.xlabel('time (s)')\n",
    "plt.ylabel('FWHM (cm)')\n",
    "plt.title('computed FWHM')"
   ]
  },
  {
   "cell_type": "markdown",
   "metadata": {},
   "source": [
    "### Estimation of D from FWHM"
   ]
  },
  {
   "cell_type": "code",
   "execution_count": 262,
   "metadata": {},
   "outputs": [
    {
     "data": {
      "text/plain": [
       "Text(0.5, 1.0, 'linear fit for the FWHM method')"
      ]
     },
     "execution_count": 262,
     "metadata": {},
     "output_type": "execute_result"
    },
    {
     "data": {
      "image/png": "[encoded data removed]",
      "text/plain": [
       "<Figure size 432x288 with 1 Axes>"
      ]
     },
     "metadata": {
      "needs_background": "light"
     },
     "output_type": "display_data"
    }
   ],
   "source": [
    "Dest0=estimate_diff(t[iperiodic],span_FWHM[iperiodic])\n",
    "plt.xlabel('time (s)')\n",
    "plt.ylabel(u'$\\sigma^2/2$')\n",
    "plt.title('linear fit for the FWHM method')"
   ]
  },
  {
   "cell_type": "code",
   "execution_count": 263,
   "metadata": {},
   "outputs": [
    {
     "name": "stdout",
     "output_type": "stream",
     "text": [
      "Estimation of D from FWHM : 1.82e-08\n"
     ]
    }
   ],
   "source": [
    "print('Estimation of D from FWHM : %.2e'%Dest0)"
   ]
  },
  {
   "cell_type": "markdown",
   "metadata": {},
   "source": [
    "The apparent Diffusion coefficient is smaller with oscillation than diffusion alone. \n",
    "This must be due to the slice location. I should use the integrate over the cros section."
   ]
  },
  {
   "cell_type": "markdown",
   "metadata": {},
   "source": [
    "### Estimation of D from fit"
   ]
  },
  {
   "cell_type": "code",
   "execution_count": 264,
   "metadata": {},
   "outputs": [
    {
     "data": {
      "text/plain": [
       "Text(0.5, 1.0, 'Estimate of D with fit method')"
      ]
     },
     "execution_count": 264,
     "metadata": {},
     "output_type": "execute_result"
    },
    {
     "data": {
      "image/png": "[encoded data removed]",
      "text/plain": [
       "<Figure size 432x288 with 1 Axes>"
      ]
     },
     "metadata": {
      "needs_background": "light"
     },
     "output_type": "display_data"
    }
   ],
   "source": [
    "# we take the time at last period\n",
    "\n",
    "spanDest=[]\n",
    "for itime in iperiodic[1:] : \n",
    "    #print('\\nEstimate at time %f s'%t[itime])\n",
    "\n",
    "    Dest, err = estimate_diff_fit(concentration[itime],x,t[itime],1e-4,100e-4)\n",
    "\n",
    "    #print('Estimation of D from fit : %.2e'%Dest)\n",
    "    #print('Fit error : %.2e'%err)\n",
    "    \n",
    "    spanDest.append(Dest)\n",
    "    plt.plot(t[itime],Dest,'*')\n",
    "    \n",
    "plt.xlabel('time (s)')\n",
    "plt.ylabel('D (cm2/s)')\n",
    "plt.title('Estimate of D with fit method')"
   ]
  },
  {
   "cell_type": "code",
   "execution_count": 265,
   "metadata": {},
   "outputs": [
    {
     "name": "stdout",
     "output_type": "stream",
     "text": [
      "Estimation of D from FWHM : 3.02e-08\n"
     ]
    }
   ],
   "source": [
    "print('Estimation of D from FWHM : %.2e'%spanDest[-1])"
   ]
  },
  {
   "cell_type": "code",
   "execution_count": null,
   "metadata": {},
   "outputs": [],
   "source": []
  },
  {
   "cell_type": "code",
   "execution_count": null,
   "metadata": {},
   "outputs": [],
   "source": []
  }
 ],
 "metadata": {
  "kernelspec": {
   "display_name": "Python 3",
   "language": "python",
   "name": "python3"
  },
  "language_info": {
   "codemirror_mode": {
    "name": "ipython",
    "version": 3
   },
   "file_extension": ".py",
   "mimetype": "text/x-python",
   "name": "python",
   "nbconvert_exporter": "python",
   "pygments_lexer": "ipython3",
   "version": "3.6.10"
  }
 },
 "nbformat": 4,
 "nbformat_minor": 4
}
