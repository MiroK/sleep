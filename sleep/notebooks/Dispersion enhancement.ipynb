{
 "cells": [
  {
   "cell_type": "code",
   "execution_count": 4,
   "metadata": {},
   "outputs": [],
   "source": [
    "import matplotlib.pyplot as plt\n",
    "import numpy as np\n",
    "from math import sqrt, exp, log, pi"
   ]
  },
  {
   "cell_type": "markdown",
   "metadata": {},
   "source": [
    "# Analytical law for the enhancement factor"
   ]
  },
  {
   "cell_type": "markdown",
   "metadata": {},
   "source": [
    "To symplify we consider that the annulus is equivalent to a channel of width $w=2 \\pi R_v$ and thickness $h=R_{pvs}-R_v$. \n",
    "\n",
    "This is valid only if $1-\\frac{R_{pvs}}{R_v}<<1$.\n",
    "\n",
    "We assume that the outer layer of the PVS is fixed and that the vessel radius follow the oscillating law\n",
    "$$ R_v=R_{v0}(1+a sin(\\omega t)$$\n",
    "\n",
    "Assuming that the outer layer is impermeable, the equations describing the CSF flow in the PVS are \n",
    "\n",
    "$$ \\partial_s Q(s,t) = - \\partial_t A(t) $$\n",
    "\n",
    "$$ \\partial_t Q(s,t) + \\partial_s (\\alpha \\frac{Q^2}{A})+\\frac{A(t)}{\\rho}\\partial_s P(s,t)=- \\frac{12 \\nu }{h(t)^2}Q(s,t) $$\n",
    "\n",
    "with $\\rho$ the density of CSf, $\\nu$ the cinematic viscosity of the CSF, $\\alpha$ the velocity profile parameter  $\\alpha= \\frac{2 \\pi A }{Q^2} \\int_{R_{v}}^{R_{pvs}} r u_s ^2 d r $ with $u_s (r)$ the CSF velocity in the axial direction.\n",
    "\n",
    "We assume that at both ends the pressure is 0. \n",
    "\n",
    "### Flow profile\n",
    "\n",
    "The problem is symetrical arround $s=0$ and we must have $Q(-s)=Q(s)$. Therefor Q(0)=0.\n",
    "\n",
    "From the first equation we have \n",
    "\n",
    "$$Q(s,t)= - \\partial_t A(t) s$$\n",
    "\n",
    "The flow is a linear function of s with a slope depending on the wall velocities.\n",
    "\n",
    "The flow value at the exit of the tube is \n",
    "\n",
    "$$Q(l/2,t)= - \\partial_t A(t) \\frac{l}{2} $$\n",
    "\n",
    "### Pressure profile\n",
    "\n",
    "By injecting flow expression in the momentum equation we have\n",
    "\n",
    "$$ \\partial_s P(s,t)=\\left[ R(t) \\partial_t A(t) + L(t) \\partial_t^2 A(t) \\right ] s $$\n",
    "\n",
    "with $R(t)= \\frac{12 \\nu \\rho}{h(t)^2 A(t)}$ and $L(t)= \\frac{ \\rho}{A(t)}$.\n",
    "\n",
    "Wich leads to the following parabolic shape of the pressure \n",
    "\n",
    "\n",
    "$$P(s,t)=\\left[ R(t) \\partial_t A(t) + L(t) \\partial_t^2 A(t) \\right ] \\frac{s^2}{2} + c(t)$$\n",
    "\n",
    "as $P_{in}=P_{out}=0$ we get\n",
    "\n",
    "\n",
    "$$P(s,t)=\\left[ R(t) \\partial_t A(t) + L(t) \\partial_t^2 A(t) \\right ] (\\frac{s^2}{2}-\\frac{l^2}{8})$$\n",
    "\n",
    "The maximum/minimum in the pressure spatial shape is in the middle of the tube \n",
    "\n",
    "\n",
    "$$P(0,t)=\\left[ R(t) \\partial_t A(t) + L(t) \\partial_t^2 A(t) \\right ] (-\\frac{l^2}{8})$$\n",
    "\n",
    "The pressure is oscillating between +P_m and -P_m with \n",
    "\n",
    "$$P_m=\\frac{\\pi L^2}{4}\\frac{\\rho R_v^2 a^2 \\omega ^2}{A}\\left(1 +\\frac{12 \\nu}{h^2 a \\omega} \\right)$$"
   ]
  },
  {
   "cell_type": "code",
   "execution_count": 1,
   "metadata": {},
   "outputs": [],
   "source": [
    "#todo : illustrer toutes ces equations"
   ]
  },
  {
   "cell_type": "markdown",
   "metadata": {},
   "source": [
    "# Enhancement estimate\n",
    "\n",
    "The enhancement factor was expressed by Watson for a flow in a channel driven by an oscillating pressure gradient \n",
    "$ \\frac{d p}{dx} = \\delta P cos (\\omega t) $ and reads\n",
    "\n",
    "$$\n",
    "R\\propto \\frac{\\delta P^2}{4(1+\\beta)\\omega^4\\rho^2A}\n",
    "$$\n",
    "with $\\beta=D/\\nu$ the inverse of the Schmidt number and $A$ the area of the cross section.\n",
    "\n",
    "\n",
    "Here the time function is not really a cosine,the pressure gradient is not linear and the cross section area is not constant.\n",
    "--> need to derive the analytical solution. I dont think it is already done.\n",
    "\n",
    "However we consider that the law given by Waston is a good first approximate by taking\n",
    "\n",
    "$$ \\delta P = \\frac{P_m}{L/2}$$\n",
    "\n",
    "Then the enhancement factor is\n",
    "\n",
    "$$\n",
    "R \\propto \\frac{\\pi L}{2}\\frac{\\rho R_v^2 a^2 \\omega ^2}{A}\\left(1 +\\frac{12 \\nu}{h^2 a \\omega} \\right)\\frac{1}{4(1+\\beta)\\omega^4\\rho^2A}\n",
    "$$\n",
    "\n",
    "$$\n",
    "R\\propto \\frac{\\pi L}{2}\\frac{ R_v^2 a^2 }{4(1+\\beta)\\rho \\omega^2A^2}\\left(1 +\\frac{12 \\nu}{h^2 a \\omega} \\right)\n",
    "$$\n",
    "\n",
    "$$\n",
    "R\\propto \\frac{L}{8\\pi}\\frac{  a^2 }{4(1+\\beta)\\rho \\omega^2   h^2}\\left(1 +\\frac{12 \\nu}{h^2 a \\omega} \\right)\n",
    "$$\n",
    "\n",
    "\n",
    "$$\n",
    "R\\propto \\frac{3 \\nu L}{2\\pi}\\frac{  a }{4(1+\\beta)\\rho \\omega^3   h^4}\n",
    "$$"
   ]
  },
  {
   "cell_type": "code",
   "execution_count": 20,
   "metadata": {},
   "outputs": [],
   "source": [
    "def R (a,w,h,L,D,nu,rho):\n",
    "    beta=D/nu\n",
    "    print((12*nu)/(h**2*a*w))\n",
    "    return L*a**2/((1+beta)*rho*w**2*h**2)*(1+(12*nu)/(h**2*a*w))"
   ]
  },
  {
   "cell_type": "code",
   "execution_count": 21,
   "metadata": {},
   "outputs": [
    {
     "name": "stdout",
     "output_type": "stream",
     "text": [
      "3342253.804929802\n",
      "3342253.804929802\n",
      "334225380.4929802\n",
      "R_nrem/R_heart :  10000.000000000002\n",
      "R_sleep/R_heart :  9999997037.927813\n"
     ]
    }
   ],
   "source": [
    "#Reference : heat beat\n",
    "Rref=R(a=0.01,w=10*2*pi,h=2e-4,L=100e-4,D=1e-8,nu=7e-3,rho=1)\n",
    "\n",
    "#NREM waves\n",
    "Rnrem=R(a=0.1,w=1*2*pi,h=2e-4,L=100e-4,D=1e-8,nu=7e-3,rho=1)\n",
    "\n",
    "#sleep waves\n",
    "Rsleep=R(a=0.1,w=0.01*2*pi,h=2e-4,L=100e-4,D=1e-8,nu=7e-3,rho=1)\n",
    "\n",
    "print('R_nrem/R_heart : ',Rnrem/Rref)\n",
    "print('R_sleep/R_heart : ',Rsleep/Rref)"
   ]
  },
  {
   "cell_type": "code",
   "execution_count": null,
   "metadata": {},
   "outputs": [],
   "source": []
  }
 ],
 "metadata": {
  "kernelspec": {
   "display_name": "Python 3",
   "language": "python",
   "name": "python3"
  },
  "language_info": {
   "codemirror_mode": {
    "name": "ipython",
    "version": 3
   },
   "file_extension": ".py",
   "mimetype": "text/x-python",
   "name": "python",
   "nbconvert_exporter": "python",
   "pygments_lexer": "ipython3",
   "version": "3.6.10"
  }
 },
 "nbformat": 4,
 "nbformat_minor": 4
}
