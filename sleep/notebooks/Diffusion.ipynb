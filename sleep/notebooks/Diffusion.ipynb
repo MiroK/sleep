{
 "cells": [
  {
   "cell_type": "code",
   "execution_count": 2,
   "metadata": {},
   "outputs": [],
   "source": [
    "import matplotlib.pyplot as plt\n",
    "import numpy as np\n",
    "import math"
   ]
  },
  {
   "cell_type": "code",
   "execution_count": 3,
   "metadata": {},
   "outputs": [],
   "source": [
    "D=2e-8\n",
    "L=100e-4"
   ]
  },
  {
   "cell_type": "markdown",
   "metadata": {},
   "source": [
    "## Pure diffusion \n",
    "\n",
    "The gaussian solution of the standard diffusion equation \n",
    "\n",
    "$$ c_t = D c_{xx} $$\n",
    "\n",
    "is \n",
    "\n",
    "$$ c(x,t)=\\frac{c_0}{\\sqrt{4\\pi D t}}\\exp{\\left(-\\frac{(x-b)^2}{4Dt}\\right)}$$\n",
    "\n",
    "The gaussian standard deviation is \n",
    "\n",
    "$$\\sigma = \\sqrt{2Dt} $$\n",
    "\n",
    "The Full Width at Half the Maximum is \n",
    "\n",
    "$$ FWHM = \\sigma \\sqrt{8\\ln2} $$"
   ]
  },
  {
   "cell_type": "markdown",
   "metadata": {},
   "source": [
    "The choice of the std parameter for initialisation should depend on the time step\n",
    "\n",
    "$$\\sigma = \\sqrt{2D \\Delta t/10 } $$"
   ]
  },
  {
   "cell_type": "markdown",
   "metadata": {},
   "source": [
    "## Cardial cycle\n",
    "\n",
    "For the cardiac simulation with frequency f=10 Hz"
   ]
  },
  {
   "cell_type": "code",
   "execution_count": 13,
   "metadata": {},
   "outputs": [
    {
     "name": "stdout",
     "output_type": "stream",
     "text": [
      "Initial virtual time = 2.50e-01 s\n",
      "Initial 𝐹𝑊𝐻𝑀 = 2 um\n",
      "Final 𝐹𝑊𝐻𝑀 = 5 um\n",
      "Distance traveled by the front: 3 um\n",
      "Number of axial cells = 1717\n"
     ]
    }
   ],
   "source": [
    "period=1/10\n",
    "tend=10*period\n",
    "dt=tend/1000\n",
    "\n",
    "sigma0=1e-4\n",
    "\n",
    "\n",
    "tini=sigma0**2/(2*D)\n",
    "\n",
    "𝐹𝑊𝐻𝑀0=(sigma0*math.sqrt(8*math.log(2)))\n",
    "\n",
    "print('Initial virtual time = %.2e s'%tini) \n",
    "print('Initial 𝐹𝑊𝐻𝑀 = %.0f um'%(𝐹𝑊𝐻𝑀0*1e4))\n",
    "\n",
    "\n",
    "sigmaend=math.sqrt(2*D*(tend+tini))\n",
    "𝐹𝑊𝐻𝑀end=(sigmaend*math.sqrt(8*math.log(2)))\n",
    "print('Final 𝐹𝑊𝐻𝑀 = %.0f um'%(𝐹𝑊𝐻𝑀end*1e4))\n",
    "\n",
    "print('Distance traveled by the front: %.0f um'%((𝐹𝑊𝐻𝑀end-𝐹𝑊𝐻𝑀0)*1e4))\n",
    "\n",
    "DX=min((𝐹𝑊𝐻𝑀end-𝐹𝑊𝐻𝑀0)/50, 𝐹𝑊𝐻𝑀0/10)\n",
    "\n",
    "Nl=L/DX\n",
    "\n",
    "print('Number of axial cells = %i'%Nl)"
   ]
  },
  {
   "cell_type": "code",
   "execution_count": null,
   "metadata": {},
   "outputs": [],
   "source": [
    "## NREM waves"
   ]
  },
  {
   "cell_type": "code",
   "execution_count": 12,
   "metadata": {},
   "outputs": [
    {
     "name": "stdout",
     "output_type": "stream",
     "text": [
      "Initial virtual time = 2.50e-01 s\n",
      "Initial 𝐹𝑊𝐻𝑀 = 2 um\n",
      "Final 𝐹𝑊𝐻𝑀 = 15 um\n",
      "Distance traveled by the front: 13 um\n",
      "Number of axial cells = 424\n"
     ]
    }
   ],
   "source": [
    "period=1/1\n",
    "tend=10*period\n",
    "dt=tend/1000\n",
    "\n",
    "sigma0=1e-4\n",
    "\n",
    "\n",
    "tini=sigma0**2/(2*D)\n",
    "\n",
    "𝐹𝑊𝐻𝑀0=(sigma0*math.sqrt(8*math.log(2)))\n",
    "\n",
    "print('Initial virtual time = %.2e s'%tini) \n",
    "print('Initial 𝐹𝑊𝐻𝑀 = %.0f um'%(𝐹𝑊𝐻𝑀0*1e4))\n",
    "\n",
    "\n",
    "sigmaend=math.sqrt(2*D*(tend+tini))\n",
    "𝐹𝑊𝐻𝑀end=(sigmaend*math.sqrt(8*math.log(2)))\n",
    "print('Final 𝐹𝑊𝐻𝑀 = %.0f um'%(𝐹𝑊𝐻𝑀end*1e4))\n",
    "\n",
    "print('Distance traveled by the front: %.0f um'%((𝐹𝑊𝐻𝑀end-𝐹𝑊𝐻𝑀0)*1e4))\n",
    "\n",
    "DX=min((𝐹𝑊𝐻𝑀end-𝐹𝑊𝐻𝑀0)/50, 𝐹𝑊𝐻𝑀0/10)\n",
    "\n",
    "Nl=L/DX\n",
    "\n",
    "print('Number of axial cells = %i'%Nl)"
   ]
  },
  {
   "cell_type": "code",
   "execution_count": null,
   "metadata": {},
   "outputs": [],
   "source": [
    "period=1/10\n",
    "tend=10*period\n",
    "dt=tend/1000\n",
    "\n",
    "sigma0=1e-4\n",
    "\n",
    "\n",
    "tini=sigma0**2/(2*D)\n",
    "\n",
    "𝐹𝑊𝐻𝑀0=(sigma0*math.sqrt(8*math.log(2)))\n",
    "\n",
    "print('Initial virtual time = %.2e s'%tini) \n",
    "print('Initial 𝐹𝑊𝐻𝑀 = %.0f um'%(𝐹𝑊𝐻𝑀0*1e4))\n",
    "\n",
    "\n",
    "sigmaend=math.sqrt(2*D*(tend+tini))\n",
    "𝐹𝑊𝐻𝑀end=(sigmaend*math.sqrt(8*math.log(2)))\n",
    "print('Final 𝐹𝑊𝐻𝑀 = %.0f um'%(𝐹𝑊𝐻𝑀end*1e4))\n",
    "\n",
    "print('Distance traveled by the front: %.0f um'%((𝐹𝑊𝐻𝑀end-𝐹𝑊𝐻𝑀0)*1e4))\n",
    "\n",
    "DX=min((𝐹𝑊𝐻𝑀end-𝐹𝑊𝐻𝑀0)/10, 𝐹𝑊𝐻𝑀0/10)\n",
    "\n",
    "Nl=L/DX\n",
    "\n",
    "print('Number of axial cells = %i'%Nl)"
   ]
  },
  {
   "cell_type": "markdown",
   "metadata": {},
   "source": [
    "## Sleep cycle"
   ]
  },
  {
   "cell_type": "code",
   "execution_count": 7,
   "metadata": {},
   "outputs": [
    {
     "name": "stdout",
     "output_type": "stream",
     "text": [
      "Sleep stages period : 4 min\n",
      "Sleep stages frequency : 0.005 Hz\n"
     ]
    }
   ],
   "source": [
    "timeNREM=60\n",
    "timeIS=40\n",
    "timeREM=110\n",
    "\n",
    "totaltime=timeNREM+timeIS+timeREM\n",
    "\n",
    "print('Sleep stages period : %.0f min'%(totaltime/60))\n",
    "print('Sleep stages frequency : %.3f Hz'%(1/totaltime))"
   ]
  },
  {
   "cell_type": "code",
   "execution_count": 9,
   "metadata": {},
   "outputs": [
    {
     "name": "stdout",
     "output_type": "stream",
     "text": [
      "Initial virtual time = 2.50e+01 s\n",
      "Initial 𝐹𝑊𝐻𝑀 = 24 um\n",
      "Final 𝐹𝑊𝐻𝑀 = 72 um\n",
      "Distance traveled by the front: 49 um\n",
      "Number of axial cells = 42\n"
     ]
    }
   ],
   "source": [
    "period=totaltime\n",
    "tend=1*period\n",
    "dt=tend/1000\n",
    "\n",
    "L=100e-4\n",
    "\n",
    "sigma0=1e-3\n",
    "\n",
    "tini=sigma0**2/(2*D)\n",
    "\n",
    "𝐹𝑊𝐻𝑀0=(sigma0*math.sqrt(8*math.log(2)))\n",
    "\n",
    "print('Initial virtual time = %.2e s'%tini) \n",
    "print('Initial 𝐹𝑊𝐻𝑀 = %.0f um'%(𝐹𝑊𝐻𝑀0*1e4))\n",
    "\n",
    "\n",
    "sigmaend=math.sqrt(2*D*(tend+tini))\n",
    "𝐹𝑊𝐻𝑀end=(sigmaend*math.sqrt(8*math.log(2)))\n",
    "print('Final 𝐹𝑊𝐻𝑀 = %.0f um'%(𝐹𝑊𝐻𝑀end*1e4))\n",
    "\n",
    "print('Distance traveled by the front: %.0f um'%((𝐹𝑊𝐻𝑀end-𝐹𝑊𝐻𝑀0)*1e4))\n",
    "\n",
    "DX=min((𝐹𝑊𝐻𝑀end-𝐹𝑊𝐻𝑀0)/10, 𝐹𝑊𝐻𝑀0/10)\n",
    "\n",
    "Nl=L/DX\n",
    "\n",
    "print('Number of axial cells = %i'%Nl)"
   ]
  },
  {
   "cell_type": "code",
   "execution_count": 10,
   "metadata": {},
   "outputs": [
    {
     "data": {
      "text/plain": [
       "210"
      ]
     },
     "execution_count": 10,
     "metadata": {},
     "output_type": "execute_result"
    }
   ],
   "source": [
    "tend"
   ]
  },
  {
   "cell_type": "code",
   "execution_count": null,
   "metadata": {},
   "outputs": [],
   "source": []
  },
  {
   "cell_type": "code",
   "execution_count": null,
   "metadata": {},
   "outputs": [],
   "source": []
  }
 ],
 "metadata": {
  "kernelspec": {
   "display_name": "Python 3",
   "language": "python",
   "name": "python3"
  },
  "language_info": {
   "codemirror_mode": {
    "name": "ipython",
    "version": 3
   },
   "file_extension": ".py",
   "mimetype": "text/x-python",
   "name": "python",
   "nbconvert_exporter": "python",
   "pygments_lexer": "ipython3",
   "version": "3.6.10"
  }
 },
 "nbformat": 4,
 "nbformat_minor": 4
}
